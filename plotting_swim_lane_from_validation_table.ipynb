{
 "cells": [
  {
   "cell_type": "code",
   "execution_count": 64,
   "metadata": {},
   "outputs": [
    {
     "data": {
      "text/plain": [
       "'/usr/local/Cellar/python/3.7.4_1/bin/python3.7'"
      ]
     },
     "execution_count": 64,
     "metadata": {},
     "output_type": "execute_result"
    }
   ],
   "source": [
    "import sys\n",
    "# See which Python it's running\n",
    "sys.executable"
   ]
  },
  {
   "cell_type": "code",
   "execution_count": 65,
   "metadata": {},
   "outputs": [
    {
     "data": {
      "text/plain": [
       "['/Users/kibanez/git/STR_detection_python3',\n",
       " '/Users/kibanez/git/STR_detection_python3/venv/lib/python37.zip',\n",
       " '/Users/kibanez/git/STR_detection_python3/venv/lib/python3.7',\n",
       " '/Users/kibanez/git/STR_detection_python3/venv/lib/python3.7/lib-dynload',\n",
       " '/usr/local/Cellar/python/3.7.4_1/Frameworks/Python.framework/Versions/3.7/lib/python3.7',\n",
       " '',\n",
       " '/Users/kibanez/git/STR_detection_python3/venv/lib/python3.7/site-packages',\n",
       " '/Users/kibanez/git/STR_detection_python3/venv/lib/python3.7/site-packages/IPython/extensions',\n",
       " '/Users/kibanez/.ipython']"
      ]
     },
     "execution_count": 65,
     "metadata": {},
     "output_type": "execute_result"
    }
   ],
   "source": [
    "# See where it's looking for imports\n",
    "sys.path"
   ]
  },
  {
   "cell_type": "code",
   "execution_count": 66,
   "metadata": {},
   "outputs": [],
   "source": [
    "import itertools\n",
    "import numpy as np\n",
    "import scipy\n",
    "from pandas import Series, DataFrame\n",
    "import pandas as pd\n",
    "import matplotlib.pyplot as plt\n",
    "import matplotlib\n",
    "import matplotlib.patches as patches\n",
    "%matplotlib inline"
   ]
  },
  {
   "cell_type": "code",
   "execution_count": 67,
   "metadata": {},
   "outputs": [],
   "source": [
    "import json\n",
    "import os"
   ]
  },
  {
   "cell_type": "code",
   "execution_count": 68,
   "metadata": {},
   "outputs": [],
   "source": [
    "plt.rcParams['pdf.fonttype'] = 42\n",
    "plt.rcParams['font.family'] = 'sans-serif'\n",
    "plt.rcParams['font.size'] = 16"
   ]
  },
  {
   "cell_type": "markdown",
   "metadata": {},
   "source": [
    "Load data"
   ]
  },
  {
   "cell_type": "code",
   "execution_count": 70,
   "metadata": {},
   "outputs": [
    {
     "data": {
      "text/html": [
       "<div>\n",
       "<style scoped>\n",
       "    .dataframe tbody tr th:only-of-type {\n",
       "        vertical-align: middle;\n",
       "    }\n",
       "\n",
       "    .dataframe tbody tr th {\n",
       "        vertical-align: top;\n",
       "    }\n",
       "\n",
       "    .dataframe thead th {\n",
       "        text-align: right;\n",
       "    }\n",
       "</style>\n",
       "<table border=\"1\" class=\"dataframe\">\n",
       "  <thead>\n",
       "    <tr style=\"text-align: right;\">\n",
       "      <th></th>\n",
       "      <th>locus_bioinfo</th>\n",
       "      <th>LP_Number</th>\n",
       "      <th>gender</th>\n",
       "      <th>EH_a1</th>\n",
       "      <th>EH_a2</th>\n",
       "      <th>experimental_a1</th>\n",
       "      <th>experimental_a2</th>\n",
       "      <th>EH_a1_avg</th>\n",
       "      <th>EH_a2_avg</th>\n",
       "      <th>EH_a1_maxCI</th>\n",
       "      <th>EH_a2_maxCI</th>\n",
       "      <th>classification_a1_avg</th>\n",
       "      <th>classification_a2_avg</th>\n",
       "      <th>threshold_normal</th>\n",
       "      <th>threshold_pathogenic</th>\n",
       "      <th>new_classification_avg</th>\n",
       "    </tr>\n",
       "  </thead>\n",
       "  <tbody>\n",
       "    <tr>\n",
       "      <th>0</th>\n",
       "      <td>AR</td>\n",
       "      <td>LP3000743-DNA_G05</td>\n",
       "      <td>NaN</td>\n",
       "      <td>55</td>\n",
       "      <td>62</td>\n",
       "      <td>expanded</td>\n",
       "      <td>expanded</td>\n",
       "      <td>62.0</td>\n",
       "      <td>NaN</td>\n",
       "      <td>72.0</td>\n",
       "      <td>NaN</td>\n",
       "      <td>TP</td>\n",
       "      <td>NaN</td>\n",
       "      <td>34</td>\n",
       "      <td>37</td>\n",
       "      <td>TP</td>\n",
       "    </tr>\n",
       "    <tr>\n",
       "      <th>1</th>\n",
       "      <td>AR</td>\n",
       "      <td>LP3001079-DNA_B02</td>\n",
       "      <td>NaN</td>\n",
       "      <td>44</td>\n",
       "      <td>57</td>\n",
       "      <td>expanded</td>\n",
       "      <td>expanded</td>\n",
       "      <td>57.0</td>\n",
       "      <td>NaN</td>\n",
       "      <td>64.0</td>\n",
       "      <td>NaN</td>\n",
       "      <td>TP</td>\n",
       "      <td>NaN</td>\n",
       "      <td>34</td>\n",
       "      <td>37</td>\n",
       "      <td>TP</td>\n",
       "    </tr>\n",
       "    <tr>\n",
       "      <th>2</th>\n",
       "      <td>AR</td>\n",
       "      <td>LP3000633-DNA_E05</td>\n",
       "      <td>NaN</td>\n",
       "      <td>51</td>\n",
       "      <td>na</td>\n",
       "      <td>expanded</td>\n",
       "      <td>NaN</td>\n",
       "      <td>52.0</td>\n",
       "      <td>NaN</td>\n",
       "      <td>54.0</td>\n",
       "      <td>NaN</td>\n",
       "      <td>TP</td>\n",
       "      <td>NaN</td>\n",
       "      <td>34</td>\n",
       "      <td>37</td>\n",
       "      <td>TP</td>\n",
       "    </tr>\n",
       "    <tr>\n",
       "      <th>3</th>\n",
       "      <td>AR</td>\n",
       "      <td>LP3001031-DNA_B11</td>\n",
       "      <td>NaN</td>\n",
       "      <td>42</td>\n",
       "      <td>44</td>\n",
       "      <td>expanded</td>\n",
       "      <td>expanded</td>\n",
       "      <td>43.0</td>\n",
       "      <td>NaN</td>\n",
       "      <td>43.0</td>\n",
       "      <td>NaN</td>\n",
       "      <td>TP</td>\n",
       "      <td>NaN</td>\n",
       "      <td>34</td>\n",
       "      <td>37</td>\n",
       "      <td>TP</td>\n",
       "    </tr>\n",
       "    <tr>\n",
       "      <th>4</th>\n",
       "      <td>AR</td>\n",
       "      <td>LP3000543-DNA_C11</td>\n",
       "      <td>NaN</td>\n",
       "      <td>40</td>\n",
       "      <td>40</td>\n",
       "      <td>expanded</td>\n",
       "      <td>expanded</td>\n",
       "      <td>40.0</td>\n",
       "      <td>NaN</td>\n",
       "      <td>40.0</td>\n",
       "      <td>NaN</td>\n",
       "      <td>TP</td>\n",
       "      <td>NaN</td>\n",
       "      <td>34</td>\n",
       "      <td>37</td>\n",
       "      <td>TP</td>\n",
       "    </tr>\n",
       "  </tbody>\n",
       "</table>\n",
       "</div>"
      ],
      "text/plain": [
       "  locus_bioinfo           LP_Number gender  EH_a1 EH_a2 experimental_a1  \\\n",
       "0            AR   LP3000743-DNA_G05    NaN     55    62        expanded   \n",
       "1            AR   LP3001079-DNA_B02    NaN     44    57        expanded   \n",
       "2            AR   LP3000633-DNA_E05    NaN     51    na        expanded   \n",
       "3            AR   LP3001031-DNA_B11    NaN     42    44        expanded   \n",
       "4            AR  LP3000543-DNA_C11     NaN     40    40        expanded   \n",
       "\n",
       "  experimental_a2  EH_a1_avg  EH_a2_avg  EH_a1_maxCI  EH_a2_maxCI  \\\n",
       "0        expanded       62.0        NaN         72.0          NaN   \n",
       "1        expanded       57.0        NaN         64.0          NaN   \n",
       "2             NaN       52.0        NaN         54.0          NaN   \n",
       "3        expanded       43.0        NaN         43.0          NaN   \n",
       "4        expanded       40.0        NaN         40.0          NaN   \n",
       "\n",
       "  classification_a1_avg classification_a2_avg  threshold_normal  \\\n",
       "0                    TP                   NaN                34   \n",
       "1                    TP                   NaN                34   \n",
       "2                    TP                   NaN                34   \n",
       "3                    TP                   NaN                34   \n",
       "4                    TP                   NaN                34   \n",
       "\n",
       "   threshold_pathogenic new_classification_avg  \n",
       "0                    37                     TP  \n",
       "1                    37                     TP  \n",
       "2                    37                     TP  \n",
       "3                    37                     TP  \n",
       "4                    37                     TP  "
      ]
     },
     "execution_count": 70,
     "metadata": {},
     "output_type": "execute_result"
    }
   ],
   "source": [
    "# Note this input file has been \"manipulated\" for having 1 allele expanded (except for FXN)\n",
    "repeat_sizes = pd.read_csv('/Users/kibanez/Documents/STRs/VALIDATION/table_validation_EHv255_for_swim_lane.tsv', sep='\\t')\n",
    "repeat_sizes.head()\n",
    "#np.unique(repeat_sizes['locus_bioinfo'])\n",
    "#np.unique(repeat_sizes['new_classification_avg'])\n",
    "# array(['FN', 'FP', 'TN', 'TP'], dtype=object)"
   ]
  },
  {
   "cell_type": "markdown",
   "metadata": {},
   "source": [
    "Prepare data for plotting"
   ]
  },
  {
   "cell_type": "code",
   "execution_count": 71,
   "metadata": {},
   "outputs": [],
   "source": [
    "repeat_info = {\n",
    "    'AR':      {'expected_range': [34, 37],   'unit_len': 3, 'index': 12},\n",
    "    'ATN1':    {'expected_range': [34, 47],   'unit_len': 3, 'index': 11},\n",
    "    'ATXN1':   {'expected_range': [35, 43],   'unit_len': 3, 'index': 10},\n",
    "    'ATXN2':   {'expected_range': [31, 32],   'unit_len': 3, 'index': 9},    \n",
    "    'ATXN3':   {'expected_range': [43, 59],   'unit_len': 3, 'index': 8},    \n",
    "    'ATXN7':   {'expected_range': [17, 35],   'unit_len': 3, 'index': 7},    \n",
    "    'CACNA1A':   {'expected_range': [17, 19],   'unit_len': 3, 'index': 6},    \n",
    "    'C9orf72':   {'expected_range': [30, 59],   'unit_len': 6, 'index': 5},        \n",
    "    'FXN':     {'expected_range': [44, 65],   'unit_len': 3, 'index': 4},\n",
    "    'HTT':     {'expected_range': [35, 39],   'unit_len': 3, 'index': 3},\n",
    "    'TBP':    {'expected_range': [41, 48],   'unit_len': 3, 'index': 2},\n",
    "    'FMR1':    {'expected_range': [49, 54],  'unit_len': 3, 'index': 1},\n",
    "    'PPP2R2B':    {'expected_range': [32, 51],   'unit_len': 3, 'index': 0}    \n",
    "}"
   ]
  },
  {
   "cell_type": "code",
   "execution_count": 72,
   "metadata": {},
   "outputs": [],
   "source": [
    "# Function to map the colors as a list \n",
    "def pltcolor(lst):\n",
    "    cols=[]\n",
    "    for l in lst:\n",
    "        if l=='TP':\n",
    "            cols.append('red')\n",
    "        elif l=='TN':\n",
    "            cols.append('blue')\n",
    "        elif l=='FP':\n",
    "            cols.append('blue')\n",
    "        else:\n",
    "            cols.append('red')\n",
    "    return cols\n"
   ]
  },
  {
   "cell_type": "code",
   "execution_count": 73,
   "metadata": {},
   "outputs": [
    {
     "data": {
      "image/png": "[encoded data removed]",
      "text/plain": [
       "<Figure size 1080x504 with 1 Axes>"
      ]
     },
     "metadata": {
      "needs_background": "light"
     },
     "output_type": "display_data"
    }
   ],
   "source": [
    "max_repeat_size = 600\n",
    "\n",
    "fig, ax = plt.subplots(figsize=(15, 7))\n",
    "\n",
    "for repeat_id, rec in repeat_sizes.groupby(by='locus_bioinfo'):\n",
    "    normal_cutoff, premutation_cutoff = repeat_info[repeat_id]['expected_range']\n",
    "    base_y = repeat_info[repeat_id]['index']\n",
    "    \n",
    "    ax.add_patch(patches.Rectangle((0, base_y - 0.5),\n",
    "                                   normal_cutoff, 1.0,\n",
    "                                   facecolor='#046b87', alpha=0.2, ec='k'))\n",
    "    \n",
    "    ax.add_patch(patches.Rectangle((normal_cutoff, base_y - 0.5),\n",
    "                                   premutation_cutoff - normal_cutoff,\n",
    "                                   1.0, facecolor='#eda407', alpha=0.2, ec='k'))\n",
    "\n",
    "    ax.add_patch(patches.Rectangle((premutation_cutoff, base_y - 0.5),\n",
    "                                   max_repeat_size - premutation_cutoff,\n",
    "                                   1.0, facecolor='#ed0716', alpha=0.2, ec='k'))\n",
    "\n",
    "    \n",
    "    #allele_sizes = list(rec.max_EH_allele)\n",
    "    allele_sizes = list(rec.EH_a1_avg) +  list(rec.EH_a2_avg)\n",
    "    ys = np.random.normal(base_y, 0.12, len(allele_sizes))\n",
    "    classi = list(rec.classification_a1_avg) + list(rec.classification_a2_avg)\n",
    "    \n",
    "    # Create the colors list using the function above\n",
    "    cols=pltcolor(classi)\n",
    "\n",
    "    # Distinguish each dot color depending on whether they are TP (red), TN (blue), FP (blue), FN (red)\n",
    "    #ax.scatter(allele_sizes, ys, c='black')\n",
    "    ax.scatter(allele_sizes, ys, c=cols, s=13)\n",
    "    \n",
    "    \n",
    "    gene_names = [(gene, rec['index']) for gene, rec in repeat_info.items()]\n",
    "    gene_names = sorted(gene_names, key=lambda k: k[1])\n",
    "    gene_names = [g for g, _ in gene_names]\n",
    "    ax.yaxis.set_ticks(range(0, len(gene_names)))\n",
    "    ax.yaxis.set_ticklabels(gene_names)\n",
    "    ax.margins(x=0, y=0)\n",
    "    ax.set(xlabel='Expansion Hunter\\'s estimation - size of the expansion', ylabel='Locus containing the repeat');"
   ]
  },
  {
   "cell_type": "code",
   "execution_count": 74,
   "metadata": {},
   "outputs": [],
   "source": [
    "# Let's save the plot into a PDF file\n",
    "fig.savefig(\"/Users/kibanez/Documents/STRs/PAPERS/VALIDATION_PAPER/Figures/repeat-sizes_EHa1_EHa2_average.pdf\", bbox_inches='tight')"
   ]
  },
  {
   "cell_type": "code",
   "execution_count": 78,
   "metadata": {},
   "outputs": [],
   "source": [
    "# Let's save the plot into a high quality PNG file - 600dpi\n",
    "fig.savefig(\"/Users/kibanez/Documents/STRs/PAPERS/VALIDATION_PAPER/Figures/repeat-sizes_EHa1_EHa2_average_600dpi.png\", bbox_inches='tight', dpi=600)"
   ]
  },
  {
   "cell_type": "code",
   "execution_count": 77,
   "metadata": {},
   "outputs": [],
   "source": [
    "# Let's save the plot into a high quality PNG file - 300dpi\n",
    "fig.savefig(\"/Users/kibanez/Documents/STRs/PAPERS/VALIDATION_PAPER/Figures/repeat-sizes_EHa1_EHa2_average_300dpi.png\", bbox_inches='tight', dpi=300)"
   ]
  },
  {
   "cell_type": "code",
   "execution_count": null,
   "metadata": {},
   "outputs": [],
   "source": []
  }
 ],
 "metadata": {
  "kernelspec": {
   "display_name": "venv",
   "language": "python",
   "name": "venv"
  },
  "language_info": {
   "codemirror_mode": {
    "name": "ipython",
    "version": 3
   },
   "file_extension": ".py",
   "mimetype": "text/x-python",
   "name": "python",
   "nbconvert_exporter": "python",
   "pygments_lexer": "ipython3",
   "version": "3.7.4"
  }
 },
 "nbformat": 4,
 "nbformat_minor": 2
}
