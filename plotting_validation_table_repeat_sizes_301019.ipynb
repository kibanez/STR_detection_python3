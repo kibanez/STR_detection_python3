{
 "cells": [
  {
   "cell_type": "code",
   "execution_count": 1,
   "metadata": {},
   "outputs": [
    {
     "data": {
      "text/plain": [
       "'/usr/local/Cellar/python/3.7.4_1/bin/python3.7'"
      ]
     },
     "execution_count": 1,
     "metadata": {},
     "output_type": "execute_result"
    }
   ],
   "source": [
    "import sys\n",
    "# See which Python it's running\n",
    "sys.executable"
   ]
  },
  {
   "cell_type": "code",
   "execution_count": 3,
   "metadata": {},
   "outputs": [
    {
     "data": {
      "text/plain": [
       "['/Users/kibanez/git/STR_detection_python3',\n",
       " '/Users/kibanez/git/STR_detection_python3/venv/lib/python37.zip',\n",
       " '/Users/kibanez/git/STR_detection_python3/venv/lib/python3.7',\n",
       " '/Users/kibanez/git/STR_detection_python3/venv/lib/python3.7/lib-dynload',\n",
       " '/usr/local/Cellar/python/3.7.4_1/Frameworks/Python.framework/Versions/3.7/lib/python3.7',\n",
       " '',\n",
       " '/Users/kibanez/git/STR_detection_python3/venv/lib/python3.7/site-packages',\n",
       " '/Users/kibanez/git/STR_detection_python3/venv/lib/python3.7/site-packages/IPython/extensions',\n",
       " '/Users/kibanez/.ipython']"
      ]
     },
     "execution_count": 3,
     "metadata": {},
     "output_type": "execute_result"
    }
   ],
   "source": [
    "# See where it's looking for imports\n",
    "sys.path"
   ]
  },
  {
   "cell_type": "code",
   "execution_count": 10,
   "metadata": {},
   "outputs": [],
   "source": [
    "import itertools\n",
    "import numpy as np\n",
    "import scipy\n",
    "from pandas import Series, DataFrame\n",
    "import pandas as pd\n",
    "import matplotlib.pyplot as plt\n",
    "import matplotlib\n",
    "import matplotlib.patches as patches\n",
    "%matplotlib inline"
   ]
  },
  {
   "cell_type": "code",
   "execution_count": 11,
   "metadata": {},
   "outputs": [],
   "source": [
    "import json\n",
    "import os"
   ]
  },
  {
   "cell_type": "code",
   "execution_count": 12,
   "metadata": {},
   "outputs": [],
   "source": [
    "plt.rcParams['pdf.fonttype'] = 42\n",
    "plt.rcParams['font.family'] = 'sans-serif'\n",
    "plt.rcParams['font.size'] = 16"
   ]
  },
  {
   "cell_type": "markdown",
   "metadata": {},
   "source": [
    "Load data"
   ]
  },
  {
   "cell_type": "code",
   "execution_count": 13,
   "metadata": {},
   "outputs": [
    {
     "data": {
      "text/html": [
       "<div>\n",
       "<style scoped>\n",
       "    .dataframe tbody tr th:only-of-type {\n",
       "        vertical-align: middle;\n",
       "    }\n",
       "\n",
       "    .dataframe tbody tr th {\n",
       "        vertical-align: top;\n",
       "    }\n",
       "\n",
       "    .dataframe thead th {\n",
       "        text-align: right;\n",
       "    }\n",
       "</style>\n",
       "<table border=\"1\" class=\"dataframe\">\n",
       "  <thead>\n",
       "    <tr style=\"text-align: right;\">\n",
       "      <th></th>\n",
       "      <th>loci</th>\n",
       "      <th>VALIDATIONSET.ID</th>\n",
       "      <th>read.length</th>\n",
       "      <th>EH_a1</th>\n",
       "      <th>EH_a2</th>\n",
       "      <th>max_EH_allele</th>\n",
       "    </tr>\n",
       "  </thead>\n",
       "  <tbody>\n",
       "    <tr>\n",
       "      <th>0</th>\n",
       "      <td>AR</td>\n",
       "      <td>VALIDATIONSET_1</td>\n",
       "      <td>150</td>\n",
       "      <td>44</td>\n",
       "      <td>57.0</td>\n",
       "      <td>57.0</td>\n",
       "    </tr>\n",
       "    <tr>\n",
       "      <th>1</th>\n",
       "      <td>AR</td>\n",
       "      <td>VALIDATIONSET_2</td>\n",
       "      <td>150</td>\n",
       "      <td>40</td>\n",
       "      <td>40.0</td>\n",
       "      <td>40.0</td>\n",
       "    </tr>\n",
       "    <tr>\n",
       "      <th>2</th>\n",
       "      <td>AR</td>\n",
       "      <td>VALIDATIONSET_3</td>\n",
       "      <td>150</td>\n",
       "      <td>55</td>\n",
       "      <td>62.0</td>\n",
       "      <td>62.0</td>\n",
       "    </tr>\n",
       "    <tr>\n",
       "      <th>3</th>\n",
       "      <td>AR</td>\n",
       "      <td>VALIDATIONSET_4</td>\n",
       "      <td>150</td>\n",
       "      <td>42</td>\n",
       "      <td>44.0</td>\n",
       "      <td>44.0</td>\n",
       "    </tr>\n",
       "    <tr>\n",
       "      <th>4</th>\n",
       "      <td>AR</td>\n",
       "      <td>VALIDATIONSET_5</td>\n",
       "      <td>150</td>\n",
       "      <td>24</td>\n",
       "      <td>NaN</td>\n",
       "      <td>NaN</td>\n",
       "    </tr>\n",
       "  </tbody>\n",
       "</table>\n",
       "</div>"
      ],
      "text/plain": [
       "  loci VALIDATIONSET.ID  read.length  EH_a1  EH_a2  max_EH_allele\n",
       "0   AR  VALIDATIONSET_1          150     44   57.0           57.0\n",
       "1   AR  VALIDATIONSET_2          150     40   40.0           40.0\n",
       "2   AR  VALIDATIONSET_3          150     55   62.0           62.0\n",
       "3   AR  VALIDATIONSET_4          150     42   44.0           44.0\n",
       "4   AR  VALIDATIONSET_5          150     24    NaN            NaN"
      ]
     },
     "execution_count": 13,
     "metadata": {},
     "output_type": "execute_result"
    }
   ],
   "source": [
    "repeat_sizes = pd.read_csv('/Users/kibanez/Documents/STRs/VALIDATION/table_validation_simple_withMaxAllele.tsv', sep='\\t')\n",
    "repeat_sizes.head()"
   ]
  },
  {
   "cell_type": "markdown",
   "metadata": {},
   "source": [
    "Prepare data for plotting"
   ]
  },
  {
   "cell_type": "code",
   "execution_count": 18,
   "metadata": {},
   "outputs": [],
   "source": [
    "repeat_info = {\n",
    "    'AR':      {'expected_range': [34*3, 38*3],   'unit_len': 3, 'index': 12},\n",
    "    'ATN1':    {'expected_range': [46*3, 48*3],   'unit_len': 3, 'index': 11},\n",
    "    'ATXN1':   {'expected_range': [39*3, 44*3],   'unit_len': 3, 'index': 10},\n",
    "    'ATXN2':   {'expected_range': [32*3, 33*3],   'unit_len': 3, 'index': 9},    \n",
    "    'ATXN3':   {'expected_range': [45*3, 60*3],   'unit_len': 3, 'index': 8},    \n",
    "    'ATXN7':   {'expected_range': [34*3, 36*3],   'unit_len': 3, 'index': 7},    \n",
    "    'CACNA1A':   {'expected_range': [18*3, 20*3],   'unit_len': 3, 'index': 6},    \n",
    "    'C9orf72':   {'expected_range': [60*6, 60*6],   'unit_len': 6, 'index': 5},        \n",
    "    'FXN':     {'expected_range': [44*3, 66*3],   'unit_len': 3, 'index': 4},\n",
    "    'HTT':     {'expected_range': [36*3, 40*3],   'unit_len': 3, 'index': 3},\n",
    "    'TBP':    {'expected_range': [44*3, 49*3],   'unit_len': 3, 'index': 2},\n",
    "    'FMR1':    {'expected_range': [55*3, 200*3],  'unit_len': 3, 'index': 1},\n",
    "    'PPP2R2B':    {'expected_range': [32*3, 51*3],   'unit_len': 3, 'index': 0}    \n",
    "}"
   ]
  },
  {
   "cell_type": "code",
   "execution_count": null,
   "metadata": {},
   "outputs": [],
   "source": []
  },
  {
   "cell_type": "code",
   "execution_count": 19,
   "metadata": {},
   "outputs": [
    {
     "data": {
      "image/png": "[encoded data removed]",
      "text/plain": [
       "<Figure size 1080x504 with 1 Axes>"
      ]
     },
     "metadata": {
      "needs_background": "light"
     },
     "output_type": "display_data"
    }
   ],
   "source": [
    "max_repeat_size = 650\n",
    "\n",
    "fig, ax = plt.subplots(figsize=(15, 7))\n",
    "\n",
    "for repeat_id, rec in repeat_sizes.groupby(by='loci'):\n",
    "    normal_cutoff, premutation_cutoff = repeat_info[repeat_id]['expected_range']\n",
    "    base_y = repeat_info[repeat_id]['index']\n",
    "    \n",
    "    ax.add_patch(patches.Rectangle((0, base_y - 0.5),\n",
    "                                   normal_cutoff, 1.0,\n",
    "                                   facecolor='#048732', alpha=0.2, ec='k'))\n",
    "    \n",
    "    ax.add_patch(patches.Rectangle((normal_cutoff, base_y - 0.5),\n",
    "                                   premutation_cutoff - normal_cutoff,\n",
    "                                   1.0, facecolor='#eda407', alpha=0.2, ec='k'))\n",
    "\n",
    "    ax.add_patch(patches.Rectangle((premutation_cutoff, base_y - 0.5),\n",
    "                                   max_repeat_size - premutation_cutoff,\n",
    "                                   1.0, facecolor='#ed0716', alpha=0.2, ec='k'))\n",
    "\n",
    "    \n",
    "    #allele_sizes = list(rec.max_EH_allele)\n",
    "    allele_sizes = list(rec.EH_a1) +  list(rec.EH_a2)\n",
    "    ys = np.random.normal(base_y, 0.12, len(allele_sizes))\n",
    "    ax.scatter(allele_sizes, ys, c='black')\n",
    "    \n",
    "    \n",
    "    gene_names = [(gene, rec['index']) for gene, rec in repeat_info.items()]\n",
    "    gene_names = sorted(gene_names, key=lambda k: k[1])\n",
    "    gene_names = [g for g, _ in gene_names]\n",
    "    ax.yaxis.set_ticks(range(0, len(gene_names)))\n",
    "    ax.yaxis.set_ticklabels(gene_names)\n",
    "    ax.margins(x=0, y=0)\n",
    "    ax.set(xlabel='Expansion Hunter\\'s estimate of the long allele size (bp)', ylabel='Locus containing the repeat');"
   ]
  },
  {
   "cell_type": "code",
   "execution_count": 20,
   "metadata": {},
   "outputs": [],
   "source": [
    "# Let's save the plot into a PDF file\n",
    "fig.savefig(\"/Users/kibanez/Documents/STRs/GEL_Conference_Autumn2019/figures/repeat-sizes_EHa1_EHa2_average.pdf\", bbox_inches='tight')"
   ]
  },
  {
   "cell_type": "code",
   "execution_count": 21,
   "metadata": {},
   "outputs": [],
   "source": [
    "# Let's save the plot into a high quality PNG file\n",
    "fig.savefig(\"/Users/kibanez/Documents/STRs/GEL_Conference_Autumn2019/figures/repeat-sizes_EHa1_EHa2_average.png\", bbox_inches='tight', dpi=600)"
   ]
  },
  {
   "cell_type": "code",
   "execution_count": null,
   "metadata": {},
   "outputs": [],
   "source": []
  }
 ],
 "metadata": {
  "kernelspec": {
   "display_name": "venv",
   "language": "python",
   "name": "venv"
  },
  "language_info": {
   "codemirror_mode": {
    "name": "ipython",
    "version": 3
   },
   "file_extension": ".py",
   "mimetype": "text/x-python",
   "name": "python",
   "nbconvert_exporter": "python",
   "pygments_lexer": "ipython3",
   "version": "3.7.4"
  }
 },
 "nbformat": 4,
 "nbformat_minor": 2
}
