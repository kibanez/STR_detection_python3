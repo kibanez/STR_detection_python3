{
 "cells": [
  {
   "cell_type": "code",
   "execution_count": 1,
   "metadata": {},
   "outputs": [
    {
     "data": {
      "text/plain": [
       "'/usr/local/opt/python/bin/python3.7'"
      ]
     },
     "execution_count": 1,
     "metadata": {},
     "output_type": "execute_result"
    }
   ],
   "source": [
    "import sys\n",
    "# See which Python it's running\n",
    "sys.executable"
   ]
  },
  {
   "cell_type": "code",
   "execution_count": 2,
   "metadata": {},
   "outputs": [
    {
     "data": {
      "text/plain": [
       "['/Users/kibanez/git/STR_detection_python3',\n",
       " '/usr/local/Cellar/python/3.7.7/Frameworks/Python.framework/Versions/3.7/lib/python37.zip',\n",
       " '/usr/local/Cellar/python/3.7.7/Frameworks/Python.framework/Versions/3.7/lib/python3.7',\n",
       " '/usr/local/Cellar/python/3.7.7/Frameworks/Python.framework/Versions/3.7/lib/python3.7/lib-dynload',\n",
       " '',\n",
       " '/Users/kibanez/Library/Python/3.7/lib/python/site-packages',\n",
       " '/usr/local/lib/python3.7/site-packages',\n",
       " '/usr/local/lib/python3.7/site-packages/IPython/extensions',\n",
       " '/Users/kibanez/.ipython']"
      ]
     },
     "execution_count": 2,
     "metadata": {},
     "output_type": "execute_result"
    }
   ],
   "source": [
    "# See where it's looking for imports\n",
    "sys.path"
   ]
  },
  {
   "cell_type": "code",
   "execution_count": 3,
   "metadata": {},
   "outputs": [],
   "source": [
    "import itertools\n",
    "import numpy as np\n",
    "import scipy\n",
    "from pandas import Series, DataFrame\n",
    "import pandas as pd\n",
    "import matplotlib.pyplot as plt\n",
    "import matplotlib\n",
    "import matplotlib.patches as patches\n",
    "%matplotlib inline"
   ]
  },
  {
   "cell_type": "code",
   "execution_count": 4,
   "metadata": {},
   "outputs": [],
   "source": [
    "import json\n",
    "import os"
   ]
  },
  {
   "cell_type": "code",
   "execution_count": 5,
   "metadata": {},
   "outputs": [],
   "source": [
    "plt.rcParams['pdf.fonttype'] = 42\n",
    "plt.rcParams['font.family'] = 'sans-serif'\n",
    "plt.rcParams['font.size'] = 16"
   ]
  },
  {
   "cell_type": "markdown",
   "metadata": {},
   "source": [
    "Load data"
   ]
  },
  {
   "cell_type": "code",
   "execution_count": null,
   "metadata": {},
   "outputs": [],
   "source": [
    "# Note this input file has been \"manipulated\" for having 1 allele expanded (except for FXN)\n",
    "repeat_sizes = pd.read_csv('/Users/kibanez/Documents/STRs/VALIDATION/table_validation_EHv312_for_swim_lane_and_ILMN_EHv312_exp=yes.tsv', sep='\\t')\n",
    "repeat_sizes.head()\n",
    "#np.unique(repeat_sizes['locus_bioinfo'])\n",
    "#np.unique(repeat_sizes['new_classification_avg'])\n",
    "# array(['FN', 'FP', 'TN', 'TP'], dtype=object)"
   ]
  },
  {
   "cell_type": "markdown",
   "metadata": {},
   "source": [
    "Prepare data for plotting"
   ]
  },
  {
   "cell_type": "code",
   "execution_count": null,
   "metadata": {},
   "outputs": [],
   "source": [
    "repeat_info = {\n",
    "    'AR':      {'expected_range': [34, 37],   'unit_len': 3, 'index': 13},\n",
    "    'ATN1':    {'expected_range': [34, 47],   'unit_len': 3, 'index': 12},\n",
    "    'ATXN1':   {'expected_range': [35, 43],   'unit_len': 3, 'index': 11},\n",
    "    'ATXN2':   {'expected_range': [31, 32],   'unit_len': 3, 'index': 10},    \n",
    "    'ATXN3':   {'expected_range': [43, 59],   'unit_len': 3, 'index': 9},    \n",
    "    'ATXN7':   {'expected_range': [17, 35],   'unit_len': 3, 'index': 8},    \n",
    "    'CACNA1A':   {'expected_range': [17, 19],   'unit_len': 3, 'index': 7},    \n",
    "    'C9orf72':   {'expected_range': [30, 59],   'unit_len': 6, 'index': 6},\n",
    "    'DMPK':   {'expected_range': [49, 50],   'unit_len': 3, 'index': 5},\n",
    "    'FMR1':    {'expected_range': [49, 54],  'unit_len': 3, 'index': 4},\n",
    "    'FXN':     {'expected_range': [44, 65],   'unit_len': 3, 'index': 3},\n",
    "    'HTT':     {'expected_range': [35, 39],   'unit_len': 3, 'index': 2},\n",
    "    'PPP2R2B':    {'expected_range': [32, 51],   'unit_len': 3, 'index': 1},\n",
    "    'TBP':    {'expected_range': [41, 48],   'unit_len': 3, 'index': 0}\n",
    "}"
   ]
  },
  {
   "cell_type": "code",
   "execution_count": null,
   "metadata": {},
   "outputs": [],
   "source": [
    "# Function to map the colors as a list \n",
    "def pltcolor(lst):\n",
    "    cols=[]\n",
    "    for l in lst:\n",
    "        if l=='TP':\n",
    "            cols.append('red')\n",
    "        elif l=='TN':\n",
    "            cols.append('blue')\n",
    "        elif l=='FP':\n",
    "            cols.append('blue')\n",
    "        else:\n",
    "            cols.append('red')\n",
    "    return cols\n"
   ]
  },
  {
   "cell_type": "code",
   "execution_count": null,
   "metadata": {},
   "outputs": [],
   "source": [
    "max_repeat_size = 600\n",
    "\n",
    "fig, ax = plt.subplots(figsize=(15, 7))\n",
    "\n",
    "for repeat_id, rec in repeat_sizes.groupby(by='locus_bioinfo'):\n",
    "    normal_cutoff, premutation_cutoff = repeat_info[repeat_id]['expected_range']\n",
    "    base_y = repeat_info[repeat_id]['index']\n",
    "    \n",
    "    ax.add_patch(patches.Rectangle((0, base_y - 0.5),\n",
    "                                   normal_cutoff, 1.0,\n",
    "                                   facecolor='#046b87', alpha=0.2, ec='k'))\n",
    "    \n",
    "    ax.add_patch(patches.Rectangle((normal_cutoff, base_y - 0.5),\n",
    "                                   premutation_cutoff - normal_cutoff,\n",
    "                                   1.0, facecolor='#eda407', alpha=0.2, ec='k'))\n",
    "\n",
    "    ax.add_patch(patches.Rectangle((premutation_cutoff, base_y - 0.5),\n",
    "                                   max_repeat_size - premutation_cutoff,\n",
    "                                   1.0, facecolor='#ed0716', alpha=0.2, ec='k'))\n",
    "\n",
    "    \n",
    "    #allele_sizes = list(rec.max_EH_allele)\n",
    "\n",
    "    # Doing with repeat-sizes\n",
    "    allele_sizes = list(rec.EH_a1_avg) +  list(rec.EH_a2_avg)\n",
    "    \n",
    "    # Doing with repeat-sizes\n",
    "    ys = np.random.normal(base_y, 0.12, len(allele_sizes))\n",
    "    \n",
    "    classi = list(rec.classification_a1_avg) + list(rec.classification_a2_avg)\n",
    "    \n",
    "    # Create the colors list using the function above\n",
    "    cols=pltcolor(classi)\n",
    "\n",
    "    # Distinguish each dot color depending on whether they are TP (red), TN (blue), FP (blue), FN (red)\n",
    "    #ax.scatter(allele_sizes, ys, c='black')\n",
    "    \n",
    "    # Doing with repeat-sizes\n",
    "    ax.scatter(allele_sizes, ys, c=cols, s=13)\n",
    "        \n",
    "    gene_names = [(gene, rec['index']) for gene, rec in repeat_info.items()]\n",
    "    gene_names = sorted(gene_names, key=lambda k: k[1])\n",
    "    gene_names = [g for g, _ in gene_names]\n",
    "    ax.yaxis.set_ticks(range(0, len(gene_names)))\n",
    "    ax.yaxis.set_ticklabels(gene_names)\n",
    "    ax.margins(x=0, y=0)\n",
    "    ax.set(xlabel='Expansion Hunter\\'s estimation - size of the expansion', ylabel='Locus containing the repeat');"
   ]
  },
  {
   "cell_type": "code",
   "execution_count": null,
   "metadata": {},
   "outputs": [],
   "source": [
    "# Let's save the plot into a PDF file\n",
    "fig.savefig(\"/Users/kibanez/Documents/STRs/PAPERS/VALIDATION_PAPER/Figures/EHv312_GEL_EHv312_ILMN_repeat-sizes-avg_RepeatUnit.pdf\", bbox_inches='tight')"
   ]
  },
  {
   "cell_type": "code",
   "execution_count": null,
   "metadata": {},
   "outputs": [],
   "source": [
    "# Let's save the plot into a high quality PNG file - 600dpi\n",
    "fig.savefig(\"/Users/kibanez/Documents/STRs/PAPERS/VALIDATION_PAPER/Figures/EHv312_GEL_EHv312_ILMN_repeat-sizes-avg_RepeatUnit_600dpi.png\", bbox_inches='tight', dpi=600)"
   ]
  },
  {
   "cell_type": "code",
   "execution_count": null,
   "metadata": {},
   "outputs": [],
   "source": [
    "# Let's save the plot into a high quality PNG file - 300dpi\n",
    "fig.savefig(\"/Users/kibanez/Documents/STRs/PAPERS/VALIDATION_PAPER/Figures/EHv312_GEL_EHv312_ILMN_repeat-sizes-avg_RepeatUnit_300dpi.png\", bbox_inches='tight', dpi=300)"
   ]
  },
  {
   "cell_type": "code",
   "execution_count": null,
   "metadata": {},
   "outputs": [],
   "source": []
  }
 ],
 "metadata": {
  "kernelspec": {
   "display_name": "venv",
   "language": "python",
   "name": "venv"
  },
  "language_info": {
   "codemirror_mode": {
    "name": "ipython",
    "version": 3
   },
   "file_extension": ".py",
   "mimetype": "text/x-python",
   "name": "python",
   "nbconvert_exporter": "python",
   "pygments_lexer": "ipython3",
   "version": "3.7.7"
  }
 },
 "nbformat": 4,
 "nbformat_minor": 2
}
